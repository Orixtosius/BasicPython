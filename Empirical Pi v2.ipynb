{
 "cells": [
  {
   "cell_type": "code",
   "execution_count": 2,
   "metadata": {},
   "outputs": [],
   "source": [
    "import random\n",
    "import math"
   ]
  },
  {
   "cell_type": "code",
   "execution_count": 6,
   "metadata": {},
   "outputs": [
    {
     "data": {
      "text/plain": [
       "3.141784"
      ]
     },
     "execution_count": 6,
     "metadata": {},
     "output_type": "execute_result"
    }
   ],
   "source": [
    "def arrows():\n",
    "    return random.uniform(-1,1) , random.uniform(-1,1)\n",
    "\n",
    "def generator(iteration):\n",
    "    list=[]\n",
    "    for i in range(iteration):\n",
    "           list.append(arrows())\n",
    "    return list\n",
    "\n",
    "def control(list):\n",
    "    yes=0\n",
    "    no=0;\n",
    "    for i in range(len(list)):\n",
    "        if(math.sqrt(list[i][0]**2+list[i][1]**2)<=1):\n",
    "            yes+=1\n",
    "        else:\n",
    "            no+=1\n",
    "    return 4*yes/(yes+no)  \n",
    "\n",
    "def game(iteration):\n",
    "    return control(generator(iteration))\n",
    "\n",
    "game(1000000)"
   ]
  }
 ],
 "metadata": {
  "kernelspec": {
   "display_name": "Python 3",
   "language": "python",
   "name": "python3"
  },
  "language_info": {
   "codemirror_mode": {
    "name": "ipython",
    "version": 3
   },
   "file_extension": ".py",
   "mimetype": "text/x-python",
   "name": "python",
   "nbconvert_exporter": "python",
   "pygments_lexer": "ipython3",
   "version": "3.7.3"
  }
 },
 "nbformat": 4,
 "nbformat_minor": 2
}
