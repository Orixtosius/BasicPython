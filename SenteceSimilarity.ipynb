{
 "cells": [
  {
   "cell_type": "code",
   "execution_count": 1,
   "metadata": {},
   "outputs": [],
   "source": [
    "#the sentence seperator aims to bring words open\n",
    "def seperator(sentence): \n",
    "    return sentence.strip().split()\n",
    "\n",
    "#this function determines scores of the words by their occurence in both texts\n",
    "def wordScore(sentence1,sentence2):\n",
    "    word1 = seperator(sentence1)\n",
    "    word2 = seperator(sentence2)\n",
    "    words = word1\n",
    "    for i in word2:\n",
    "        words.append(i)\n",
    "    \n",
    "    searchedWords = []\n",
    "    for word in word1:\n",
    "        if word not in searchedWords:\n",
    "            searchedWords.append(word)\n",
    "\n",
    "    for word in word2:\n",
    "        if word not in searchedWords:\n",
    "            searchedWords.append(word)\n",
    "        \n",
    "    points = []\n",
    "    for word in searchedWords:\n",
    "        occurence = 0\n",
    "        for textWord in words:\n",
    "            if word == textWord:\n",
    "                occurence+=1\n",
    "        points.append([word,occurence])\n",
    "\n",
    "    return points\n",
    "\n",
    "#it calculates the score of sentences using wordScore function above\n",
    "#these results are not normalized\n",
    "\n",
    "def sentenceScore(c1,wordScore):\n",
    "    score = 0\n",
    "    c1s = seperator(c1)\n",
    "    for i in c1s:\n",
    "        for j in wordScore:\n",
    "            if i == j[0]:\n",
    "                score = score+j[1]\n",
    "    return score"
   ]
  },
  {
   "cell_type": "code",
   "execution_count": 2,
   "metadata": {},
   "outputs": [],
   "source": [
    "c1 = \"at adam insan adam\"\n",
    "c2 = \"adam nisan kat\""
   ]
  },
  {
   "cell_type": "code",
   "execution_count": 3,
   "metadata": {},
   "outputs": [
    {
     "data": {
      "text/plain": [
       "['at', 'adam', 'insan', 'adam']"
      ]
     },
     "execution_count": 3,
     "metadata": {},
     "output_type": "execute_result"
    }
   ],
   "source": [
    "seperator(c1)"
   ]
  },
  {
   "cell_type": "code",
   "execution_count": 4,
   "metadata": {},
   "outputs": [
    {
     "data": {
      "text/plain": [
       "['adam', 'nisan', 'kat']"
      ]
     },
     "execution_count": 4,
     "metadata": {},
     "output_type": "execute_result"
    }
   ],
   "source": [
    "seperator(c2)"
   ]
  },
  {
   "cell_type": "code",
   "execution_count": 5,
   "metadata": {},
   "outputs": [
    {
     "data": {
      "text/plain": [
       "[['at', 1], ['adam', 3], ['insan', 1], ['nisan', 1], ['kat', 1]]"
      ]
     },
     "execution_count": 5,
     "metadata": {},
     "output_type": "execute_result"
    }
   ],
   "source": [
    "wordScore(c1,c2)"
   ]
  },
  {
   "cell_type": "code",
   "execution_count": 6,
   "metadata": {},
   "outputs": [
    {
     "data": {
      "text/plain": [
       "8"
      ]
     },
     "execution_count": 6,
     "metadata": {},
     "output_type": "execute_result"
    }
   ],
   "source": [
    "sentenceScore(c1, wordScore(c1,c2))"
   ]
  },
  {
   "cell_type": "code",
   "execution_count": 7,
   "metadata": {},
   "outputs": [
    {
     "data": {
      "text/plain": [
       "5"
      ]
     },
     "execution_count": 7,
     "metadata": {},
     "output_type": "execute_result"
    }
   ],
   "source": [
    "sentenceScore(c2, wordScore(c1,c2))"
   ]
  }
 ],
 "metadata": {
  "kernelspec": {
   "display_name": "Python 3",
   "language": "python",
   "name": "python3"
  },
  "language_info": {
   "codemirror_mode": {
    "name": "ipython",
    "version": 3
   },
   "file_extension": ".py",
   "mimetype": "text/x-python",
   "name": "python",
   "nbconvert_exporter": "python",
   "pygments_lexer": "ipython3",
   "version": "3.7.6"
  }
 },
 "nbformat": 4,
 "nbformat_minor": 4
}
