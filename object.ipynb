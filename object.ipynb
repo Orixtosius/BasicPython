{
 "cells": [
  {
   "cell_type": "markdown",
   "metadata": {},
   "source": [
    "# PASSING BY VALUE AND PASSING BY REFERENCE"
   ]
  },
  {
   "cell_type": "code",
   "execution_count": 54,
   "metadata": {},
   "outputs": [],
   "source": [
    "class hayvan():\n",
    "    def __init__(self,isim,yas):\n",
    "        self.isim = isim\n",
    "        self.yas = yas\n",
    "    def yaslanma(self):\n",
    "        self.yas = self.yas + 1\n",
    "        return self.yas"
   ]
  },
  {
   "cell_type": "code",
   "execution_count": 63,
   "metadata": {},
   "outputs": [],
   "source": [
    "at = hayvan(\"gülbatur\",3)\n",
    "at.yas"
   ]
  },
  {
   "cell_type": "code",
   "execution_count": 57,
   "metadata": {},
   "outputs": [],
   "source": [
    "#passing by value\n",
    "def yas(yas):\n",
    "    yas = yas + 1\n",
    "    print(yas)\n",
    "yas(at.yas)"
   ]
  },
  {
   "cell_type": "code",
   "execution_count": 61,
   "metadata": {},
   "outputs": [
    {
     "data": {
      "text/plain": [
       "4"
      ]
     },
     "execution_count": 61,
     "metadata": {},
     "output_type": "execute_result"
    }
   ],
   "source": [
    "at.yaslanma()\n",
    "at.yas"
   ]
  },
  {
   "cell_type": "code",
   "execution_count": 66,
   "metadata": {},
   "outputs": [],
   "source": [
    "#passing by reference\n",
    "def yas(at):\n",
    "    at.yas = at.yas + 1\n",
    "    print(at.yas)\n",
    "at.yas"
   ]
  }
 ],
 "metadata": {
  "kernelspec": {
   "display_name": "Python 3",
   "language": "python",
   "name": "python3"
  },
  "language_info": {
   "codemirror_mode": {
    "name": "ipython",
    "version": 3
   },
   "file_extension": ".py",
   "mimetype": "text/x-python",
   "name": "python",
   "nbconvert_exporter": "python",
   "pygments_lexer": "ipython3",
   "version": "3.7.3"
  }
 },
 "nbformat": 4,
 "nbformat_minor": 2
}
