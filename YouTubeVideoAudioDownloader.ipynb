{
 "cells": [
  {
   "cell_type": "code",
   "execution_count": 1,
   "metadata": {},
   "outputs": [],
   "source": [
    "from pytube import YouTube\n",
    "import os"
   ]
  },
  {
   "cell_type": "code",
   "execution_count": 2,
   "metadata": {},
   "outputs": [
    {
     "name": "stdout",
     "output_type": "stream",
     "text": [
      "Please enter the link of the audio you would like to download : \n",
      " -->https://www.youtube.com/watch?v=PvT8Kx1WC64&ab_channel=B0BtheR0SS\n"
     ]
    }
   ],
   "source": [
    "yt = YouTube(input(\"Please enter the link of the audio you would like to download : \\n -->\"))"
   ]
  },
  {
   "cell_type": "code",
   "execution_count": 3,
   "metadata": {},
   "outputs": [
    {
     "name": "stdout",
     "output_type": "stream",
     "text": [
      "Destionation or no destionation, thats the problem\n",
      "--> \n"
     ]
    }
   ],
   "source": [
    "audio = yt.streams.filter(only_audio=True).first()\n",
    "print(\"Destionation or no destionation, thats the problem\")\n",
    "destination = str(input(\"--> \")) or '.'"
   ]
  },
  {
   "cell_type": "code",
   "execution_count": 4,
   "metadata": {},
   "outputs": [
    {
     "name": "stdout",
     "output_type": "stream",
     "text": [
      "What would you like to obtain: Video or Audio ?\n",
      " -->Audio\n"
     ]
    }
   ],
   "source": [
    "typ = input(\"What would you like to obtain: Video or Audio ?\\n -->\")"
   ]
  },
  {
   "cell_type": "code",
   "execution_count": 5,
   "metadata": {},
   "outputs": [
    {
     "name": "stdout",
     "output_type": "stream",
     "text": [
      "Audio download operation is completed successfully.\n"
     ]
    }
   ],
   "source": [
    "out_file = audio.download(output_path=destination)\n",
    "if typ == \"Audio\":\n",
    "    base, ext = os.path.splitext(out_file)\n",
    "    new_file = base + '.mp3'\n",
    "    os.rename(out_file, new_file)    \n",
    "print(typ + \" download operation is completed successfully.\")"
   ]
  }
 ],
 "metadata": {
  "kernelspec": {
   "display_name": "Python 3",
   "language": "python",
   "name": "python3"
  },
  "language_info": {
   "codemirror_mode": {
    "name": "ipython",
    "version": 3
   },
   "file_extension": ".py",
   "mimetype": "text/x-python",
   "name": "python",
   "nbconvert_exporter": "python",
   "pygments_lexer": "ipython3",
   "version": "3.7.6"
  }
 },
 "nbformat": 4,
 "nbformat_minor": 4
}
