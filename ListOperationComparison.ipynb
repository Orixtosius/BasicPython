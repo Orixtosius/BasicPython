{
 "cells": [
  {
   "cell_type": "code",
   "execution_count": 1,
   "id": "322cef56",
   "metadata": {},
   "outputs": [],
   "source": [
    "import time\n",
    "import random"
   ]
  },
  {
   "cell_type": "code",
   "execution_count": 2,
   "id": "04c02e43",
   "metadata": {},
   "outputs": [],
   "source": [
    "def function(arr):\n",
    "    for i in range(len(arr)):\n",
    "        arr[i]+=5\n",
    "    return arr"
   ]
  },
  {
   "cell_type": "code",
   "execution_count": 3,
   "id": "5f629d31",
   "metadata": {},
   "outputs": [],
   "source": [
    "def createArray(n):\n",
    "    list = []\n",
    "    for i in range(n):\n",
    "        list.append(random.randint(0,100))\n",
    "    return list"
   ]
  },
  {
   "cell_type": "code",
   "execution_count": 4,
   "id": "d2961f44",
   "metadata": {},
   "outputs": [
    {
     "data": {
      "text/plain": [
       "[34, 85, 99, 24, 53, 14, 73, 93, 53, 74]"
      ]
     },
     "execution_count": 4,
     "metadata": {},
     "output_type": "execute_result"
    }
   ],
   "source": [
    "array = createArray(10000)\n",
    "array[:10]"
   ]
  },
  {
   "cell_type": "markdown",
   "id": "8b20ee43",
   "metadata": {},
   "source": [
    "# For individual comparison"
   ]
  },
  {
   "cell_type": "code",
   "execution_count": 5,
   "id": "c82a5183",
   "metadata": {},
   "outputs": [
    {
     "name": "stdout",
     "output_type": "stream",
     "text": [
      "Results of first experiment\n",
      "Duration: 1000.6428 µs\n",
      "New array : [39, 90, 104, 29, 58, 19, 78, 98, 58, 79] ... [40, 45, 15, 32, 68, 7, 95, 76, 8, 11]\n"
     ]
    }
   ],
   "source": [
    "#case 1\n",
    "startTime = time.time()\n",
    "result = function(array)\n",
    "endTime = time.time()\n",
    "print(\"Results of first experiment\")\n",
    "print(\"Duration: %.4f µs\" % (1000000*(endTime - startTime)))\n",
    "print(\"New array :\",array[:10],\"...\",array[-10:])"
   ]
  },
  {
   "cell_type": "code",
   "execution_count": 6,
   "id": "d958f573",
   "metadata": {},
   "outputs": [
    {
     "name": "stdout",
     "output_type": "stream",
     "text": [
      "Results of second experiment\n",
      "Duration: 3996.6106 µs\n",
      "New array : [39, 90, 104, 29, 58, 19, 78, 98, 58, 79] ... [40, 45, 15, 32, 68, 7, 95, 76, 8, 11]\n"
     ]
    }
   ],
   "source": [
    "#case 2\n",
    "stTime = time.time()\n",
    "result = [lambda x: x + 5 for i in range(len(array))]\n",
    "endTime = time.time()\n",
    "print(\"Results of second experiment\")\n",
    "print(\"Duration: %.4f µs\" % (1000000*(endTime - stTime)))\n",
    "print(\"New array :\",array[:10],\"...\",array[-10:])"
   ]
  },
  {
   "cell_type": "code",
   "execution_count": 7,
   "id": "6f48c791",
   "metadata": {},
   "outputs": [
    {
     "name": "stdout",
     "output_type": "stream",
     "text": [
      "Results of third experiment\n",
      "Duration: 999.9275 µs\n",
      "New array : [39, 90, 104, 29, 58, 19, 78, 98, 58, 79] ... [40, 45, 15, 32, 68, 7, 95, 76, 8, 11]\n"
     ]
    }
   ],
   "source": [
    "#case 3\n",
    "stTime = time.time()\n",
    "result = [i+5 for i in array]\n",
    "endTime = time.time()\n",
    "print(\"Results of third experiment\")\n",
    "print(\"Duration: %.4f µs\" % (1000000*(endTime - stTime)))\n",
    "print(\"New array :\",array[:10],\"...\",array[-10:])"
   ]
  },
  {
   "cell_type": "markdown",
   "id": "8f4d3317",
   "metadata": {},
   "source": [
    "# Average Time on Consecutive Sum Operation"
   ]
  },
  {
   "cell_type": "code",
   "execution_count": 8,
   "id": "0671a461",
   "metadata": {},
   "outputs": [],
   "source": [
    "array = createArray(10000)"
   ]
  },
  {
   "cell_type": "code",
   "execution_count": 9,
   "id": "81dade30",
   "metadata": {},
   "outputs": [
    {
     "name": "stdout",
     "output_type": "stream",
     "text": [
      "Average time of this function for different random generated array is: 1120.0619 µs\n"
     ]
    }
   ],
   "source": [
    "#case 1\n",
    "totalTime = 0.0\n",
    "for i in range(100):\n",
    "    st = time.time()\n",
    "    result = function(array)\n",
    "    totalTime = totalTime + (time.time() - st)\n",
    "time_mean = totalTime/100\n",
    "print(\"Average time of this function for different random generated array is: %.4f µs\" %(1000000*time_mean))"
   ]
  },
  {
   "cell_type": "code",
   "execution_count": 10,
   "id": "2262f458",
   "metadata": {},
   "outputs": [
    {
     "name": "stdout",
     "output_type": "stream",
     "text": [
      "Average time of this function for different random generated array is: 4020.3142 µs\n"
     ]
    }
   ],
   "source": [
    "#case 2\n",
    "totalTime = 0.0\n",
    "for i in range(100):\n",
    "    st = time.time()\n",
    "    result = [lambda x: x + 5 for i in range(len(array))]\n",
    "    totalTime = totalTime + (time.time() - st)\n",
    "time_mean = totalTime/100\n",
    "print(\"Average time of this function for different random generated array is: %.4f µs\" %(1000000*time_mean))"
   ]
  },
  {
   "cell_type": "code",
   "execution_count": 11,
   "id": "1e806e40",
   "metadata": {},
   "outputs": [
    {
     "name": "stdout",
     "output_type": "stream",
     "text": [
      "Average time of this function for different random generated array is: 520.0434 µs\n"
     ]
    }
   ],
   "source": [
    "#case 3\n",
    "totalTime = 0.0\n",
    "for i in range(100):\n",
    "    st = time.time()\n",
    "    result = [i+5 for i in array]\n",
    "    totalTime = totalTime + (time.time() - st)\n",
    "time_mean = totalTime/100\n",
    "print(\"Average time of this function for different random generated array is: %.4f µs\" %(1000000*time_mean))"
   ]
  },
  {
   "cell_type": "markdown",
   "id": "286ad64d",
   "metadata": {},
   "source": [
    "# Average Time of Sum Operation on Randomly Generated Arrays"
   ]
  },
  {
   "cell_type": "code",
   "execution_count": 12,
   "id": "202806fc",
   "metadata": {},
   "outputs": [
    {
     "name": "stdout",
     "output_type": "stream",
     "text": [
      "Average duration of first operation is 1020.2789 µs\n",
      "Average duration of second operation is 3700.5830 µs\n",
      "Average duration of third operation is 750.3986 µs\n"
     ]
    }
   ],
   "source": [
    "sum1,sum2,sum3 =0,0,0\n",
    "for i in range(100):\n",
    "    arr1 = createArray(10000)\n",
    "    arr2 = array.copy()\n",
    "    arr3 = array.copy()\n",
    "    \n",
    "    st1 = time.time()\n",
    "    result = function(arr1)\n",
    "    dur1 = time.time() - st1\n",
    "    sum1+=dur1\n",
    "    \n",
    "    st2 = time.time()\n",
    "    result = [lambda x: x + 5 for i in range(len(arr2))]\n",
    "    dur2 = time.time() - st2\n",
    "    sum2+=dur2\n",
    "    \n",
    "    st3 = time.time()\n",
    "    result = [i+5 for i in arr3]\n",
    "    dur3 = time.time() - st3\n",
    "    sum3+=dur3\n",
    "print(\"Average duration of first operation is %.4f µs\" %(sum1*10000))\n",
    "print(\"Average duration of second operation is %.4f µs\"%(sum2*10000))\n",
    "print(\"Average duration of third operation is %.4f µs\"%(sum3*10000))"
   ]
  },
  {
   "cell_type": "markdown",
   "id": "153c58e3",
   "metadata": {},
   "source": [
    "# Result"
   ]
  },
  {
   "cell_type": "raw",
   "id": "9dee1a7a",
   "metadata": {},
   "source": [
    "In this test:\n",
    "     -> A randomly generated function is used for source of data.\n",
    "     -> 3 different approach are implemented in order to observe the needed duration for each operation.\n",
    "     -> Comparison is made in 3 different steps.\n",
    "As a result:\n",
    "     -> It's observed that lambda operation in list comprehension is prominently more expensive (in context of time requirement) than any of others.\n",
    "     -> Yet list comprehension is the best way for list operations."
   ]
  }
 ],
 "metadata": {
  "kernelspec": {
   "display_name": "Python 3 (ipykernel)",
   "language": "python",
   "name": "python3"
  },
  "language_info": {
   "codemirror_mode": {
    "name": "ipython",
    "version": 3
   },
   "file_extension": ".py",
   "mimetype": "text/x-python",
   "name": "python",
   "nbconvert_exporter": "python",
   "pygments_lexer": "ipython3",
   "version": "3.9.7"
  }
 },
 "nbformat": 4,
 "nbformat_minor": 5
}
