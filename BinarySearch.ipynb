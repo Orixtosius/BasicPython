{
 "cells": [
  {
   "cell_type": "code",
   "execution_count": 14,
   "metadata": {},
   "outputs": [],
   "source": [
    "def binarySearchIterative(array, searched):\n",
    "    high = len(array)-1\n",
    "    low = 0\n",
    "    i = 0\n",
    "    while low >= high:\n",
    "        print(i,\"th turn in loop\")\n",
    "        mid = (low + high)//2\n",
    "        if array[mid] == searched:\n",
    "            return mid\n",
    "        elif array[mid] > searched:\n",
    "            high = mid-1\n",
    "        else:\n",
    "            low = mid+1\n",
    "        i+=1\n",
    "    return -1"
   ]
  },
  {
   "cell_type": "code",
   "execution_count": 7,
   "metadata": {},
   "outputs": [
    {
     "name": "stdout",
     "output_type": "stream",
     "text": [
      "0 th turn in loop\n",
      "1 th turn in loop\n",
      "2 th turn in loop\n",
      "3 th turn in loop\n",
      "==> 2\n",
      "0 th turn in loop\n",
      "1 th turn in loop\n",
      "2 th turn in loop\n",
      "3 th turn in loop\n",
      "==> -1\n",
      "0 th turn in loop\n",
      "1 th turn in loop\n",
      "==> 3\n",
      "0 th turn in loop\n",
      "1 th turn in loop\n",
      "2 th turn in loop\n",
      "3 th turn in loop\n",
      "==> 10\n",
      "0 th turn in loop\n",
      "1 th turn in loop\n",
      "==> 11\n",
      "0 th turn in loop\n",
      "1 th turn in loop\n",
      "2 th turn in loop\n",
      "3 th turn in loop\n",
      "==> -1\n",
      "0 th turn in loop\n",
      "1 th turn in loop\n",
      "2 th turn in loop\n",
      "3 th turn in loop\n",
      "==> -1\n",
      "0 th turn in loop\n",
      "1 th turn in loop\n",
      "2 th turn in loop\n",
      "3 th turn in loop\n",
      "==> 0\n"
     ]
    }
   ],
   "source": [
    "arr = [0,2,4,6,7,11,14,25,26,97,112,123,231,523,1025]\n",
    "print(\"==>\",binarySearchIterative(arr,4))\n",
    "print(\"==>\",binarySearchIterative(arr,5))\n",
    "print(\"==>\",binarySearchIterative(arr,6))\n",
    "print(\"==>\",binarySearchIterative(arr,112))\n",
    "print(\"==>\",binarySearchIterative(arr,123))\n",
    "print(\"==>\",binarySearchIterative(arr,100))\n",
    "print(\"==>\",binarySearchIterative(arr,-1))\n",
    "print(\"==>\",binarySearchIterative(arr,0))"
   ]
  },
  {
   "cell_type": "code",
   "execution_count": 17,
   "metadata": {},
   "outputs": [],
   "source": [
    "def binarySearchRecursive(array, searched, high, low):\n",
    "    mid = (high + low)//2\n",
    "    if high >= low:\n",
    "        if array[mid] == searched:\n",
    "            return mid\n",
    "        elif array[mid] > searched:\n",
    "            return binarySearchRecursive(array, searched, mid - 1, low)\n",
    "        else:\n",
    "            return binarySearchRecursive(array, searched, high, mid + 1)\n",
    "    else:\n",
    "        return -1"
   ]
  },
  {
   "cell_type": "code",
   "execution_count": 18,
   "metadata": {},
   "outputs": [
    {
     "name": "stdout",
     "output_type": "stream",
     "text": [
      "==> 2\n",
      "==> -1\n",
      "==> 3\n",
      "==> 11\n",
      "==> -1\n",
      "==> 0\n"
     ]
    }
   ],
   "source": [
    "print(\"==>\",binarySearchRecursive(arr,4,len(arr)-1,0))\n",
    "print(\"==>\",binarySearchRecursive(arr,5,len(arr)-1,0))\n",
    "print(\"==>\",binarySearchRecursive(arr,6,len(arr)-1,0))\n",
    "print(\"==>\",binarySearchRecursive(arr,123,len(arr)-1,0))\n",
    "print(\"==>\",binarySearchRecursive(arr,8,len(arr)-1,0))\n",
    "print(\"==>\",binarySearchRecursive(arr,0,len(arr)-1,0))"
   ]
  },
  {
   "cell_type": "code",
   "execution_count": null,
   "metadata": {},
   "outputs": [],
   "source": []
  }
 ],
 "metadata": {
  "kernelspec": {
   "display_name": "Python 3",
   "language": "python",
   "name": "python3"
  },
  "language_info": {
   "codemirror_mode": {
    "name": "ipython",
    "version": 3
   },
   "file_extension": ".py",
   "mimetype": "text/x-python",
   "name": "python",
   "nbconvert_exporter": "python",
   "pygments_lexer": "ipython3",
   "version": "3.7.6"
  }
 },
 "nbformat": 4,
 "nbformat_minor": 4
}
